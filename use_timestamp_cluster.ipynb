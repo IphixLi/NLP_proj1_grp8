{
 "cells": [
  {
   "cell_type": "code",
   "execution_count": null,
   "metadata": {},
   "outputs": [],
   "source": [
    "tweet = {\n",
    "        \"text\": \"Damn I thought Lincoln would win that. I have yet to see Argo, though..but Lincoln was amazing beyond words. #GoldenGlobes\",\n",
    "        \"user\": {\n",
    "            \"screen_name\": \"LauraSperber\",\n",
    "            \"id\": 14283234\n",
    "        },\n",
    "        \"id\": 290669440671047681,\n",
    "        \"timestamp_ms\": 1358132134000,\n",
    "        \"new_text\": \"Don't jennifergarner me when you present my award\",\n",
    "}"
   ]
  },
  {
   "cell_type": "code",
   "execution_count": null,
   "metadata": {},
   "outputs": [],
   "source": [
    "from timestamp_cluster import TimestampCluster\n",
    "from datetime import datetime\n",
    "\n",
    "tc = TimestampCluster(load_saved=True)\n",
    "\n",
    "# used for predicting the related awards if it's about nominees (only use the timestamp of the tweet)\n",
    "print(tc.categorize_timestamp(tweet['timestamp_ms']))\n",
    "\n",
    "# used for predicting the related awards if it's about presenters (presenters appear before the award is presented) (only use the timestamp of the tweet)\n",
    "print(tc.categorize_timestamp_after(tweet['timestamp_ms']))\n",
    "\n",
    "print(datetime.fromtimestamp(tweet['timestamp_ms'] / 1000.0).strftime(\"%Y-%m-%d %H:%M:%S\"))"
   ]
  }
 ],
 "metadata": {
  "language_info": {
   "name": "python"
  }
 },
 "nbformat": 4,
 "nbformat_minor": 2
}

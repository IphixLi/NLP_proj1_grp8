{
 "cells": [
  {
   "cell_type": "code",
   "execution_count": 15,
   "metadata": {},
   "outputs": [
    {
     "name": "stdout",
     "output_type": "stream",
     "text": [
      "['supporting', 'goes']\n"
     ]
    },
    {
     "name": "stderr",
     "output_type": "stream",
     "text": [
      "[nltk_data] Downloading package averaged_perceptron_tagger to\n",
      "[nltk_data]     /home/chyifan/nltk_data...\n",
      "[nltk_data]   Package averaged_perceptron_tagger is already up-to-\n",
      "[nltk_data]       date!\n",
      "[nltk_data] Downloading package punkt to /home/chyifan/nltk_data...\n",
      "[nltk_data]   Package punkt is already up-to-date!\n"
     ]
    }
   ],
   "source": [
    "import nltk\n",
    "from nltk.tokenize import word_tokenize\n",
    "\n",
    "nltk.download('averaged_perceptron_tagger')\n",
    "nltk.download('punkt')\n",
    "\n",
    "text = \"Best supporting actress in a motion picture goes to Anne Hathaway for \\\"Les Miserables\\\"\"\n",
    "words = word_tokenize(text)\n",
    "pos_tags = nltk.pos_tag(words)\n",
    "\n",
    "verbs = [word for word, pos in pos_tags if pos.startswith('VB')]\n",
    "print(verbs)"
   ]
  },
  {
   "cell_type": "code",
   "execution_count": 2,
   "metadata": {},
   "outputs": [],
   "source": [
    "import spacy\n",
    "# import neuralcoref\n",
    "\n",
    "nlp = spacy.load(\"en_core_web_md\")\n",
    "# neuralcoref.add_to_pipe(nlp)"
   ]
  },
  {
   "cell_type": "code",
   "execution_count": 9,
   "metadata": {},
   "outputs": [
    {
     "name": "stdout",
     "output_type": "stream",
     "text": [
      "[1, 1, 1, 1, 1, 1, 1, 1, 1, 1, 1, 1, 1, 1, 1, 1, 1, 1, 1, 1, 1, 1]\n",
      "[19, 23, 14, 18, 30, 28, 20, 22, 13, 22, 12, 10, 17, 17, 17, 18, 16, 24, 19, 20, 19, 26]\n"
     ]
    }
   ],
   "source": [
    "sentences = [\n",
    "    \"And the best look of the night goes to: Michelle Dockery In Alexandre Vauthier Couture via Fashion Critic\",\n",
    "    \"Photo: gq: GQ's Filmmaker of the Year just won Best Director at the Golden Globes. Congrats, Ben!\",\n",
    "    \"I'm going to start my own awards show called the silver spheres.\",\n",
    "    \"\\\"@JustJared: Claire Danes &amp; Hugh Dancy - Golden Globes 2013 Red Carpet http://t.co/25eeZEJq\\\"\",\n",
    "    \"Jennifer Lawrence vs. Zooey Deschanel: It's the Golden Globes Red Carpet Pose-Off!: It's a lady in red showdown! Jennifer Lawrence an...\",\n",
    "    \"'Argo,' 'Les Miz' win best-picture Golden Globes; Day-Lewis, Chastain take drama acting awards:  Golden Globes\",\n",
    "    \"\\u201c@amsdiva: Kate Hudson's smile is as infectious as her mother's #globesphilly #goldenglobes\\u201d Truth\",\n",
    "    \"Best supporting actress in TV series, mini-series or TV movie goes to Downton Abbey's Maggie Smith Golden Globes\",\n",
    "    \"Best Supporting Actress in a Motion Picture - Anne Hathaway - Les Miserables\",\n",
    "    \"Best Original Song - \\\"Skyfall\\\" - Adele (Official adele) & Paul Epworth (Paul epworth) - Skyfall\",\n",
    "    \"Best Original Song, Motion Picture: Skyfall by Official Adele!\",\n",
    "    \"Best Motion Picture - Comedy or Musical - Les Miserables\",\n",
    "    \"Congrats to Official Adele! She takes home the award for best original song for Skyfall!\",\n",
    "    \"A massive congratulations to the Goldenglobes winner for Best Actress in a Comedy Series, Lenadunham!\",\n",
    "    \"Rise of the guardians takes home the last award of the night: Best picture, drama\",\n",
    "    \"Hugh Jackman wins best actor in a motion picture, comedy or musical for \\\"Les Miserables\\\"\",\n",
    "    \"Best supporting actress in a motion picture goes to Anne Hathaway for \\\"Les Miserables\\\"\",\n",
    "    \"Hotel Transylvania is nominated for Two golden globes tonight \\\"Best Animated Film\\\" and \\\" Outstanding Animation in an Animated Feature Film\\\"\",\n",
    "    \"I bet Rise of the guardians takes home the last award of the night: Best picture, drama\",\n",
    "    \"I guess Hugh Jackman wins best actor in a motion picture, comedy or musical for \\\"Les Miserables\\\"\",\n",
    "    \"I bet best supporting actress in a motion picture is awarded to Anne Hathaway for \\\"Les Miserables\\\"\",\n",
    "    \"I hope Hotel Transylvania is nominated for Two golden globes tonight \\\"Best Animated Film\\\" and \\\" Outstanding Animation in an Animated Feature Film\\\"\",\n",
    "]\n",
    "sentences_len = [len(s.split(\"\\s:!;.,?'\\\"\")) for s in sentences]\n",
    "print(sentences_len)\n",
    "sentences = [nlp(s) for s in sentences]\n",
    "sentences_len = [len(s) for s in sentences]\n",
    "print(sentences_len)"
   ]
  },
  {
   "cell_type": "code",
   "execution_count": 139,
   "metadata": {},
   "outputs": [
    {
     "name": "stdout",
     "output_type": "stream",
     "text": [
      "[('Motion Picture -', 'ORG')]\n",
      "[('Actress', 'Supporting', 'ROOT', 'VERB', 'support'), ('a Motion Picture - Anne Hathaway - Les Miserables', 'in', 'prep', 'ADP', 'in')]\n",
      "[('Skyfall', 'WORK_OF_ART'), ('Adele', 'PERSON'), ('Paul Epworth', 'PERSON'), ('Paul epworth', 'PERSON')]\n",
      "[('Best Original Song - \"Skyfall', 'Skyfall', 'ROOT', 'PROPN', 'Skyfall'), ('Adele', 'Skyfall', 'ROOT', 'PROPN', 'Skyfall'), ('Paul Epworth', 'Adele', 'appos', 'PROPN', 'Adele'), ('Paul epworth', 'Skyfall', 'ROOT', 'PROPN', 'Skyfall'), ('Skyfall', 'Skyfall', 'ROOT', 'PROPN', 'Skyfall')]\n",
      "[]\n",
      "[('Best Original Song', 'Song', 'ROOT', 'PROPN', 'Song'), ('Motion Picture', 'Song', 'ROOT', 'PROPN', 'Song'), ('Skyfall', 'Song', 'ROOT', 'PROPN', 'Song'), ('Official adele', 'by', 'prep', 'ADP', 'by')]\n",
      "[('Musical - Les', 'ORG')]\n",
      "[('Best Motion Picture - Comedy or Musical - Les Miserables', 'Miserables', 'ROOT', 'PROPN', 'Miserables')]\n",
      "[('Skyfall', 'WORK_OF_ART')]\n",
      "[('Congrats', 'Congrats', 'ROOT', 'NOUN', 'congrat'), ('Official adele', 'to', 'prep', 'ADP', 'to'), ('She', 'takes', 'ROOT', 'VERB', 'take'), ('the award', 'takes', 'ROOT', 'VERB', 'take'), ('best original song', 'for', 'prep', 'ADP', 'for'), ('Skyfall', 'for', 'prep', 'ADP', 'for')]\n",
      "[('Argo', 'ORG')]\n",
      "[('Argo', 'takes', 'ROOT', 'VERB', 'take'), ('the last award', 'takes', 'ROOT', 'VERB', 'take'), ('the night', 'of', 'prep', 'ADP', 'of'), ('Best picture', 'award', 'dobj', 'NOUN', 'award'), ('drama', 'picture', 'appos', 'NOUN', 'picture')]\n",
      "[('Hugh Jackman', 'PERSON'), ('Les Miserables', 'WORK_OF_ART')]\n",
      "[('Hugh Jackman', 'wins', 'ROOT', 'VERB', 'win'), ('best actor', 'wins', 'ROOT', 'VERB', 'win'), ('a motion picture', 'in', 'prep', 'ADP', 'in'), ('comedy', 'picture', 'pobj', 'NOUN', 'picture'), ('Les Miserables', 'for', 'prep', 'ADP', 'for')]\n",
      "[('Anne Hathaway', 'PERSON'), ('Les Miserables', 'WORK_OF_ART')]\n",
      "[('Best supporting actress', 'awarded', 'ROOT', 'VERB', 'award'), ('a motion picture', 'in', 'prep', 'ADP', 'in'), ('Anne Hathaway', 'to', 'dative', 'ADP', 'to'), ('Les Miserables', 'for', 'prep', 'ADP', 'for')]\n",
      "[('Anne Hathaway', 'PERSON'), ('Les Miserables', 'WORK_OF_ART')]\n",
      "[('Best supporting actress', 'goes', 'ROOT', 'VERB', 'go'), ('a motion picture', 'in', 'prep', 'ADP', 'in'), ('Anne Hathaway', 'to', 'prep', 'ADP', 'to'), ('Les Miserables', 'for', 'prep', 'ADP', 'for')]\n",
      "[('Hotel Transylvania', 'ORG'), ('Two', 'CARDINAL'), ('tonight', 'TIME'), ('Best Animated Film', 'WORK_OF_ART'), ('Outstanding Animation', 'WORK_OF_ART')]\n",
      "[('Hotel Transylvania', 'nominated', 'ROOT', 'VERB', 'nominate'), ('Two golden globes', 'for', 'prep', 'ADP', 'for'), ('\"Best Animated Film', 'nominated', 'ROOT', 'VERB', 'nominate'), ('\" Outstanding Animation', 'Film', 'dobj', 'PROPN', 'Film'), ('an Animated Feature Film', 'in', 'prep', 'ADP', 'in')]\n"
     ]
    }
   ],
   "source": [
    "for doc in sentences:\n",
    "    print([(ent.text, ent.label_) for ent in doc.ents])\n",
    "    print([(chunk.text, chunk.root.head.text, chunk.root.head.dep_, chunk.root.head.pos_, chunk.root.head.lemma_) for chunk in doc.noun_chunks])"
   ]
  },
  {
   "cell_type": "code",
   "execution_count": 40,
   "metadata": {},
   "outputs": [],
   "source": [
    "from spacy.matcher import DependencyMatcher\n",
    "matcher = DependencyMatcher(nlp.vocab)\n",
    "\n",
    "# List of verbs to match\n",
    "verbs_single = [\"wins\", \"get\", \"receive\", \"won\", \"got\", \"received\"]\n",
    "\n",
    "# Pattern for \"Y wins X\"\n",
    "pattern1 = [\n",
    "    {\n",
    "        \"RIGHT_ID\": \"anchor_wins\",\n",
    "        \"RIGHT_ATTRS\": {\"ORTH\": \"wins\"},\n",
    "    },\n",
    "    {\n",
    "        \"LEFT_ID\": \"anchor_wins\",\n",
    "        \"REL_OP\": \">\",\n",
    "        \"RIGHT_ID\": \"wins_subject\",\n",
    "        \"RIGHT_ATTRS\": {\"DEP\": \"nsubj\"},\n",
    "    },\n",
    "    {\n",
    "        \"LEFT_ID\": \"anchor_wins\",\n",
    "        \"REL_OP\": \">\",\n",
    "        \"RIGHT_ID\": \"wins_object\",\n",
    "        \"RIGHT_ATTRS\": {\"DEP\": \"dobj\"},\n",
    "    },\n",
    "]\n",
    "\n",
    "\n",
    "# Add patterns to the Matcher\n",
    "matcher.add(\"PATTERN_1\", [pattern1])\n"
   ]
  },
  {
   "cell_type": "code",
   "execution_count": 5,
   "metadata": {},
   "outputs": [
    {
     "name": "stdout",
     "output_type": "stream",
     "text": [
      "[('Motion Picture', 'ORG'), ('Anne Hathaway', 'PERSON'), ('Les Miserables', 'PERSON'), ('Adele', 'PERSON')]\n",
      "root: [Actress]\n",
      "root: Actress\n",
      "[Best, Original, in, ,, Hathaway, Song]\n",
      "[]\n"
     ]
    },
    {
     "data": {
      "text/html": [
       "<span class=\"tex2jax_ignore\"><!DOCTYPE html><html lang=\"en\"><head><title>displaCy</title></head><body style=\"font-size: 16px; font-family: -apple-system, BlinkMacSystemFont, 'Segoe UI', Helvetica, Arial, sans-serif, 'Apple Color Emoji', 'Segoe UI Emoji', 'Segoe UI Symbol'; padding: 4rem 2rem; direction: ltr\"><figure style=\"margin-bottom: 6rem\"><svg xmlns=\"http://www.w3.org/2000/svg\" xmlns:xlink=\"http://www.w3.org/1999/xlink\" xml:lang=\"en\" id=\"1b3a1659cc8a4cd3ae7ea3f195819abf-0\" class=\"displacy\" width=\"3550\" height=\"574.5\" direction=\"ltr\" style=\"max-width: none; height: 574.5px; color: #000000; background: #ffffff; font-family: Arial; direction: ltr\"><text class=\"displacy-token\" fill=\"currentColor\" text-anchor=\"middle\" y=\"484.5\"><tspan class=\"displacy-word\" fill=\"currentColor\" x=\"50\">Best</tspan><tspan class=\"displacy-tag\" dy=\"2em\" fill=\"currentColor\" x=\"50\">PROPN</tspan></text><text class=\"displacy-token\" fill=\"currentColor\" text-anchor=\"middle\" y=\"484.5\"><tspan class=\"displacy-word\" fill=\"currentColor\" x=\"225\">Original</tspan><tspan class=\"displacy-tag\" dy=\"2em\" fill=\"currentColor\" x=\"225\">ADJ</tspan></text><text class=\"displacy-token\" fill=\"currentColor\" text-anchor=\"middle\" y=\"484.5\"><tspan class=\"displacy-word\" fill=\"currentColor\" x=\"400\">Actress</tspan><tspan class=\"displacy-tag\" dy=\"2em\" fill=\"currentColor\" x=\"400\">PROPN</tspan></text><text class=\"displacy-token\" fill=\"currentColor\" text-anchor=\"middle\" y=\"484.5\"><tspan class=\"displacy-word\" fill=\"currentColor\" x=\"575\">in</tspan><tspan class=\"displacy-tag\" dy=\"2em\" fill=\"currentColor\" x=\"575\">ADP</tspan></text><text class=\"displacy-token\" fill=\"currentColor\" text-anchor=\"middle\" y=\"484.5\"><tspan class=\"displacy-word\" fill=\"currentColor\" x=\"750\">a</tspan><tspan class=\"displacy-tag\" dy=\"2em\" fill=\"currentColor\" x=\"750\">DET</tspan></text><text class=\"displacy-token\" fill=\"currentColor\" text-anchor=\"middle\" y=\"484.5\"><tspan class=\"displacy-word\" fill=\"currentColor\" x=\"925\">Motion</tspan><tspan class=\"displacy-tag\" dy=\"2em\" fill=\"currentColor\" x=\"925\">PROPN</tspan></text><text class=\"displacy-token\" fill=\"currentColor\" text-anchor=\"middle\" y=\"484.5\"><tspan class=\"displacy-word\" fill=\"currentColor\" x=\"1100\">Picture,</tspan><tspan class=\"displacy-tag\" dy=\"2em\" fill=\"currentColor\" x=\"1100\">PROPN</tspan></text><text class=\"displacy-token\" fill=\"currentColor\" text-anchor=\"middle\" y=\"484.5\"><tspan class=\"displacy-word\" fill=\"currentColor\" x=\"1275\">Anne</tspan><tspan class=\"displacy-tag\" dy=\"2em\" fill=\"currentColor\" x=\"1275\">PROPN</tspan></text><text class=\"displacy-token\" fill=\"currentColor\" text-anchor=\"middle\" y=\"484.5\"><tspan class=\"displacy-word\" fill=\"currentColor\" x=\"1450\">Hathaway,</tspan><tspan class=\"displacy-tag\" dy=\"2em\" fill=\"currentColor\" x=\"1450\">PROPN</tspan></text><text class=\"displacy-token\" fill=\"currentColor\" text-anchor=\"middle\" y=\"484.5\"><tspan class=\"displacy-word\" fill=\"currentColor\" x=\"1625\">Les</tspan><tspan class=\"displacy-tag\" dy=\"2em\" fill=\"currentColor\" x=\"1625\">PROPN</tspan></text><text class=\"displacy-token\" fill=\"currentColor\" text-anchor=\"middle\" y=\"484.5\"><tspan class=\"displacy-word\" fill=\"currentColor\" x=\"1800\">Miserables;</tspan><tspan class=\"displacy-tag\" dy=\"2em\" fill=\"currentColor\" x=\"1800\">PROPN</tspan></text><text class=\"displacy-token\" fill=\"currentColor\" text-anchor=\"middle\" y=\"484.5\"><tspan class=\"displacy-word\" fill=\"currentColor\" x=\"1975\">Best</tspan><tspan class=\"displacy-tag\" dy=\"2em\" fill=\"currentColor\" x=\"1975\">PROPN</tspan></text><text class=\"displacy-token\" fill=\"currentColor\" text-anchor=\"middle\" y=\"484.5\"><tspan class=\"displacy-word\" fill=\"currentColor\" x=\"2150\">Original</tspan><tspan class=\"displacy-tag\" dy=\"2em\" fill=\"currentColor\" x=\"2150\">ADJ</tspan></text><text class=\"displacy-token\" fill=\"currentColor\" text-anchor=\"middle\" y=\"484.5\"><tspan class=\"displacy-word\" fill=\"currentColor\" x=\"2325\">Song,</tspan><tspan class=\"displacy-tag\" dy=\"2em\" fill=\"currentColor\" x=\"2325\">PROPN</tspan></text><text class=\"displacy-token\" fill=\"currentColor\" text-anchor=\"middle\" y=\"484.5\"><tspan class=\"displacy-word\" fill=\"currentColor\" x=\"2500\">Motion</tspan><tspan class=\"displacy-tag\" dy=\"2em\" fill=\"currentColor\" x=\"2500\">PROPN</tspan></text><text class=\"displacy-token\" fill=\"currentColor\" text-anchor=\"middle\" y=\"484.5\"><tspan class=\"displacy-word\" fill=\"currentColor\" x=\"2675\">Picture:</tspan><tspan class=\"displacy-tag\" dy=\"2em\" fill=\"currentColor\" x=\"2675\">PROPN</tspan></text><text class=\"displacy-token\" fill=\"currentColor\" text-anchor=\"middle\" y=\"484.5\"><tspan class=\"displacy-word\" fill=\"currentColor\" x=\"2850\">Skyfall</tspan><tspan class=\"displacy-tag\" dy=\"2em\" fill=\"currentColor\" x=\"2850\">NOUN</tspan></text><text class=\"displacy-token\" fill=\"currentColor\" text-anchor=\"middle\" y=\"484.5\"><tspan class=\"displacy-word\" fill=\"currentColor\" x=\"3025\">by</tspan><tspan class=\"displacy-tag\" dy=\"2em\" fill=\"currentColor\" x=\"3025\">ADP</tspan></text><text class=\"displacy-token\" fill=\"currentColor\" text-anchor=\"middle\" y=\"484.5\"><tspan class=\"displacy-word\" fill=\"currentColor\" x=\"3200\">Official</tspan><tspan class=\"displacy-tag\" dy=\"2em\" fill=\"currentColor\" x=\"3200\">PROPN</tspan></text><text class=\"displacy-token\" fill=\"currentColor\" text-anchor=\"middle\" y=\"484.5\"><tspan class=\"displacy-word\" fill=\"currentColor\" x=\"3375\">Adele!</tspan><tspan class=\"displacy-tag\" dy=\"2em\" fill=\"currentColor\" x=\"3375\">PROPN</tspan></text><g class=\"displacy-arrow\"><path class=\"displacy-arc\" id=\"arrow-1b3a1659cc8a4cd3ae7ea3f195819abf-0-0\" stroke-width=\"2px\" d=\"M70,439.5 C70,264.5 385.0,264.5 385.0,439.5\" fill=\"none\" stroke=\"currentColor\"/><text dy=\"1.25em\" style=\"font-size: 0.8em; letter-spacing: 1px\"><textPath xlink:href=\"#arrow-1b3a1659cc8a4cd3ae7ea3f195819abf-0-0\" class=\"displacy-label\" startOffset=\"50%\" side=\"left\" fill=\"currentColor\" text-anchor=\"middle\">compound</textPath></text><path class=\"displacy-arrowhead\" d=\"M70,441.5 L62,429.5 78,429.5\" fill=\"currentColor\"/></g><g class=\"displacy-arrow\"><path class=\"displacy-arc\" id=\"arrow-1b3a1659cc8a4cd3ae7ea3f195819abf-0-1\" stroke-width=\"2px\" d=\"M245,439.5 C245,352.0 380.0,352.0 380.0,439.5\" fill=\"none\" stroke=\"currentColor\"/><text dy=\"1.25em\" style=\"font-size: 0.8em; letter-spacing: 1px\"><textPath xlink:href=\"#arrow-1b3a1659cc8a4cd3ae7ea3f195819abf-0-1\" class=\"displacy-label\" startOffset=\"50%\" side=\"left\" fill=\"currentColor\" text-anchor=\"middle\">amod</textPath></text><path class=\"displacy-arrowhead\" d=\"M245,441.5 L237,429.5 253,429.5\" fill=\"currentColor\"/></g><g class=\"displacy-arrow\"><path class=\"displacy-arc\" id=\"arrow-1b3a1659cc8a4cd3ae7ea3f195819abf-0-2\" stroke-width=\"2px\" d=\"M420,439.5 C420,352.0 555.0,352.0 555.0,439.5\" fill=\"none\" stroke=\"currentColor\"/><text dy=\"1.25em\" style=\"font-size: 0.8em; letter-spacing: 1px\"><textPath xlink:href=\"#arrow-1b3a1659cc8a4cd3ae7ea3f195819abf-0-2\" class=\"displacy-label\" startOffset=\"50%\" side=\"left\" fill=\"currentColor\" text-anchor=\"middle\">prep</textPath></text><path class=\"displacy-arrowhead\" d=\"M555.0,441.5 L563.0,429.5 547.0,429.5\" fill=\"currentColor\"/></g><g class=\"displacy-arrow\"><path class=\"displacy-arc\" id=\"arrow-1b3a1659cc8a4cd3ae7ea3f195819abf-0-3\" stroke-width=\"2px\" d=\"M770,439.5 C770,264.5 1085.0,264.5 1085.0,439.5\" fill=\"none\" stroke=\"currentColor\"/><text dy=\"1.25em\" style=\"font-size: 0.8em; letter-spacing: 1px\"><textPath xlink:href=\"#arrow-1b3a1659cc8a4cd3ae7ea3f195819abf-0-3\" class=\"displacy-label\" startOffset=\"50%\" side=\"left\" fill=\"currentColor\" text-anchor=\"middle\">det</textPath></text><path class=\"displacy-arrowhead\" d=\"M770,441.5 L762,429.5 778,429.5\" fill=\"currentColor\"/></g><g class=\"displacy-arrow\"><path class=\"displacy-arc\" id=\"arrow-1b3a1659cc8a4cd3ae7ea3f195819abf-0-4\" stroke-width=\"2px\" d=\"M945,439.5 C945,352.0 1080.0,352.0 1080.0,439.5\" fill=\"none\" stroke=\"currentColor\"/><text dy=\"1.25em\" style=\"font-size: 0.8em; letter-spacing: 1px\"><textPath xlink:href=\"#arrow-1b3a1659cc8a4cd3ae7ea3f195819abf-0-4\" class=\"displacy-label\" startOffset=\"50%\" side=\"left\" fill=\"currentColor\" text-anchor=\"middle\">compound</textPath></text><path class=\"displacy-arrowhead\" d=\"M945,441.5 L937,429.5 953,429.5\" fill=\"currentColor\"/></g><g class=\"displacy-arrow\"><path class=\"displacy-arc\" id=\"arrow-1b3a1659cc8a4cd3ae7ea3f195819abf-0-5\" stroke-width=\"2px\" d=\"M595,439.5 C595,177.0 1090.0,177.0 1090.0,439.5\" fill=\"none\" stroke=\"currentColor\"/><text dy=\"1.25em\" style=\"font-size: 0.8em; letter-spacing: 1px\"><textPath xlink:href=\"#arrow-1b3a1659cc8a4cd3ae7ea3f195819abf-0-5\" class=\"displacy-label\" startOffset=\"50%\" side=\"left\" fill=\"currentColor\" text-anchor=\"middle\">pobj</textPath></text><path class=\"displacy-arrowhead\" d=\"M1090.0,441.5 L1098.0,429.5 1082.0,429.5\" fill=\"currentColor\"/></g><g class=\"displacy-arrow\"><path class=\"displacy-arc\" id=\"arrow-1b3a1659cc8a4cd3ae7ea3f195819abf-0-6\" stroke-width=\"2px\" d=\"M1295,439.5 C1295,352.0 1430.0,352.0 1430.0,439.5\" fill=\"none\" stroke=\"currentColor\"/><text dy=\"1.25em\" style=\"font-size: 0.8em; letter-spacing: 1px\"><textPath xlink:href=\"#arrow-1b3a1659cc8a4cd3ae7ea3f195819abf-0-6\" class=\"displacy-label\" startOffset=\"50%\" side=\"left\" fill=\"currentColor\" text-anchor=\"middle\">compound</textPath></text><path class=\"displacy-arrowhead\" d=\"M1295,441.5 L1287,429.5 1303,429.5\" fill=\"currentColor\"/></g><g class=\"displacy-arrow\"><path class=\"displacy-arc\" id=\"arrow-1b3a1659cc8a4cd3ae7ea3f195819abf-0-7\" stroke-width=\"2px\" d=\"M420,439.5 C420,89.5 1445.0,89.5 1445.0,439.5\" fill=\"none\" stroke=\"currentColor\"/><text dy=\"1.25em\" style=\"font-size: 0.8em; letter-spacing: 1px\"><textPath xlink:href=\"#arrow-1b3a1659cc8a4cd3ae7ea3f195819abf-0-7\" class=\"displacy-label\" startOffset=\"50%\" side=\"left\" fill=\"currentColor\" text-anchor=\"middle\">conj</textPath></text><path class=\"displacy-arrowhead\" d=\"M1445.0,441.5 L1453.0,429.5 1437.0,429.5\" fill=\"currentColor\"/></g><g class=\"displacy-arrow\"><path class=\"displacy-arc\" id=\"arrow-1b3a1659cc8a4cd3ae7ea3f195819abf-0-8\" stroke-width=\"2px\" d=\"M1645,439.5 C1645,352.0 1780.0,352.0 1780.0,439.5\" fill=\"none\" stroke=\"currentColor\"/><text dy=\"1.25em\" style=\"font-size: 0.8em; letter-spacing: 1px\"><textPath xlink:href=\"#arrow-1b3a1659cc8a4cd3ae7ea3f195819abf-0-8\" class=\"displacy-label\" startOffset=\"50%\" side=\"left\" fill=\"currentColor\" text-anchor=\"middle\">compound</textPath></text><path class=\"displacy-arrowhead\" d=\"M1645,441.5 L1637,429.5 1653,429.5\" fill=\"currentColor\"/></g><g class=\"displacy-arrow\"><path class=\"displacy-arc\" id=\"arrow-1b3a1659cc8a4cd3ae7ea3f195819abf-0-9\" stroke-width=\"2px\" d=\"M1470,439.5 C1470,264.5 1785.0,264.5 1785.0,439.5\" fill=\"none\" stroke=\"currentColor\"/><text dy=\"1.25em\" style=\"font-size: 0.8em; letter-spacing: 1px\"><textPath xlink:href=\"#arrow-1b3a1659cc8a4cd3ae7ea3f195819abf-0-9\" class=\"displacy-label\" startOffset=\"50%\" side=\"left\" fill=\"currentColor\" text-anchor=\"middle\">conj</textPath></text><path class=\"displacy-arrowhead\" d=\"M1785.0,441.5 L1793.0,429.5 1777.0,429.5\" fill=\"currentColor\"/></g><g class=\"displacy-arrow\"><path class=\"displacy-arc\" id=\"arrow-1b3a1659cc8a4cd3ae7ea3f195819abf-0-10\" stroke-width=\"2px\" d=\"M1995,439.5 C1995,264.5 2310.0,264.5 2310.0,439.5\" fill=\"none\" stroke=\"currentColor\"/><text dy=\"1.25em\" style=\"font-size: 0.8em; letter-spacing: 1px\"><textPath xlink:href=\"#arrow-1b3a1659cc8a4cd3ae7ea3f195819abf-0-10\" class=\"displacy-label\" startOffset=\"50%\" side=\"left\" fill=\"currentColor\" text-anchor=\"middle\">compound</textPath></text><path class=\"displacy-arrowhead\" d=\"M1995,441.5 L1987,429.5 2003,429.5\" fill=\"currentColor\"/></g><g class=\"displacy-arrow\"><path class=\"displacy-arc\" id=\"arrow-1b3a1659cc8a4cd3ae7ea3f195819abf-0-11\" stroke-width=\"2px\" d=\"M2170,439.5 C2170,352.0 2305.0,352.0 2305.0,439.5\" fill=\"none\" stroke=\"currentColor\"/><text dy=\"1.25em\" style=\"font-size: 0.8em; letter-spacing: 1px\"><textPath xlink:href=\"#arrow-1b3a1659cc8a4cd3ae7ea3f195819abf-0-11\" class=\"displacy-label\" startOffset=\"50%\" side=\"left\" fill=\"currentColor\" text-anchor=\"middle\">amod</textPath></text><path class=\"displacy-arrowhead\" d=\"M2170,441.5 L2162,429.5 2178,429.5\" fill=\"currentColor\"/></g><g class=\"displacy-arrow\"><path class=\"displacy-arc\" id=\"arrow-1b3a1659cc8a4cd3ae7ea3f195819abf-0-12\" stroke-width=\"2px\" d=\"M420,439.5 C420,2.0 2325.0,2.0 2325.0,439.5\" fill=\"none\" stroke=\"currentColor\"/><text dy=\"1.25em\" style=\"font-size: 0.8em; letter-spacing: 1px\"><textPath xlink:href=\"#arrow-1b3a1659cc8a4cd3ae7ea3f195819abf-0-12\" class=\"displacy-label\" startOffset=\"50%\" side=\"left\" fill=\"currentColor\" text-anchor=\"middle\">appos</textPath></text><path class=\"displacy-arrowhead\" d=\"M2325.0,441.5 L2333.0,429.5 2317.0,429.5\" fill=\"currentColor\"/></g><g class=\"displacy-arrow\"><path class=\"displacy-arc\" id=\"arrow-1b3a1659cc8a4cd3ae7ea3f195819abf-0-13\" stroke-width=\"2px\" d=\"M2520,439.5 C2520,352.0 2655.0,352.0 2655.0,439.5\" fill=\"none\" stroke=\"currentColor\"/><text dy=\"1.25em\" style=\"font-size: 0.8em; letter-spacing: 1px\"><textPath xlink:href=\"#arrow-1b3a1659cc8a4cd3ae7ea3f195819abf-0-13\" class=\"displacy-label\" startOffset=\"50%\" side=\"left\" fill=\"currentColor\" text-anchor=\"middle\">compound</textPath></text><path class=\"displacy-arrowhead\" d=\"M2520,441.5 L2512,429.5 2528,429.5\" fill=\"currentColor\"/></g><g class=\"displacy-arrow\"><path class=\"displacy-arc\" id=\"arrow-1b3a1659cc8a4cd3ae7ea3f195819abf-0-14\" stroke-width=\"2px\" d=\"M2345,439.5 C2345,264.5 2660.0,264.5 2660.0,439.5\" fill=\"none\" stroke=\"currentColor\"/><text dy=\"1.25em\" style=\"font-size: 0.8em; letter-spacing: 1px\"><textPath xlink:href=\"#arrow-1b3a1659cc8a4cd3ae7ea3f195819abf-0-14\" class=\"displacy-label\" startOffset=\"50%\" side=\"left\" fill=\"currentColor\" text-anchor=\"middle\">appos</textPath></text><path class=\"displacy-arrowhead\" d=\"M2660.0,441.5 L2668.0,429.5 2652.0,429.5\" fill=\"currentColor\"/></g><g class=\"displacy-arrow\"><path class=\"displacy-arc\" id=\"arrow-1b3a1659cc8a4cd3ae7ea3f195819abf-0-15\" stroke-width=\"2px\" d=\"M2345,439.5 C2345,177.0 2840.0,177.0 2840.0,439.5\" fill=\"none\" stroke=\"currentColor\"/><text dy=\"1.25em\" style=\"font-size: 0.8em; letter-spacing: 1px\"><textPath xlink:href=\"#arrow-1b3a1659cc8a4cd3ae7ea3f195819abf-0-15\" class=\"displacy-label\" startOffset=\"50%\" side=\"left\" fill=\"currentColor\" text-anchor=\"middle\">appos</textPath></text><path class=\"displacy-arrowhead\" d=\"M2840.0,441.5 L2848.0,429.5 2832.0,429.5\" fill=\"currentColor\"/></g><g class=\"displacy-arrow\"><path class=\"displacy-arc\" id=\"arrow-1b3a1659cc8a4cd3ae7ea3f195819abf-0-16\" stroke-width=\"2px\" d=\"M2870,439.5 C2870,352.0 3005.0,352.0 3005.0,439.5\" fill=\"none\" stroke=\"currentColor\"/><text dy=\"1.25em\" style=\"font-size: 0.8em; letter-spacing: 1px\"><textPath xlink:href=\"#arrow-1b3a1659cc8a4cd3ae7ea3f195819abf-0-16\" class=\"displacy-label\" startOffset=\"50%\" side=\"left\" fill=\"currentColor\" text-anchor=\"middle\">prep</textPath></text><path class=\"displacy-arrowhead\" d=\"M3005.0,441.5 L3013.0,429.5 2997.0,429.5\" fill=\"currentColor\"/></g><g class=\"displacy-arrow\"><path class=\"displacy-arc\" id=\"arrow-1b3a1659cc8a4cd3ae7ea3f195819abf-0-17\" stroke-width=\"2px\" d=\"M3220,439.5 C3220,352.0 3355.0,352.0 3355.0,439.5\" fill=\"none\" stroke=\"currentColor\"/><text dy=\"1.25em\" style=\"font-size: 0.8em; letter-spacing: 1px\"><textPath xlink:href=\"#arrow-1b3a1659cc8a4cd3ae7ea3f195819abf-0-17\" class=\"displacy-label\" startOffset=\"50%\" side=\"left\" fill=\"currentColor\" text-anchor=\"middle\">compound</textPath></text><path class=\"displacy-arrowhead\" d=\"M3220,441.5 L3212,429.5 3228,429.5\" fill=\"currentColor\"/></g><g class=\"displacy-arrow\"><path class=\"displacy-arc\" id=\"arrow-1b3a1659cc8a4cd3ae7ea3f195819abf-0-18\" stroke-width=\"2px\" d=\"M3045,439.5 C3045,264.5 3360.0,264.5 3360.0,439.5\" fill=\"none\" stroke=\"currentColor\"/><text dy=\"1.25em\" style=\"font-size: 0.8em; letter-spacing: 1px\"><textPath xlink:href=\"#arrow-1b3a1659cc8a4cd3ae7ea3f195819abf-0-18\" class=\"displacy-label\" startOffset=\"50%\" side=\"left\" fill=\"currentColor\" text-anchor=\"middle\">pobj</textPath></text><path class=\"displacy-arrowhead\" d=\"M3360.0,441.5 L3368.0,429.5 3352.0,429.5\" fill=\"currentColor\"/></g></svg></figure></body></html></span>"
      ],
      "text/plain": [
       "<IPython.core.display.HTML object>"
      ]
     },
     "metadata": {},
     "output_type": "display_data"
    },
    {
     "name": "stdout",
     "output_type": "stream",
     "text": [
      "Actress\n",
      "Hathaway\n",
      "by\n"
     ]
    }
   ],
   "source": [
    "from spacy import displacy\n",
    "\n",
    "doc = nlp(\"What do you think of Jessica Chastain's centre-part?\")\n",
    "print([(ent.text, ent.label_) for ent in doc.ents])\n",
    "\n",
    "# print(doc._.coref_clusters)\n",
    "def find_verbs(spacy_output):\n",
    "    return [token for token in spacy_output if token.pos_ == \"VERB\"]\n",
    "\n",
    "def find_root(spacy_output):\n",
    "    for token in spacy_output:\n",
    "        if token.dep_ == \"ROOT\":\n",
    "            return token\n",
    "    return None\n",
    "\n",
    "print(f\"root: {[sent.root for sent in doc.sents]}\")\n",
    "print(f\"root: {find_root(doc)}\")\n",
    "\n",
    "for v in find_verbs(doc):\n",
    "    if v.dep_ != \"ROOT\" and v.head == find_root(doc):\n",
    "        print(v.text)\n",
    "# head = doc.ents[0].root.head\n",
    "# print(head.lemma_)\n",
    "\n",
    "root = find_root(doc)\n",
    "print([child for child in root.children])\n",
    "punctuations = [child for child in root.children if child.text in [\"-\", \":\"]]\n",
    "print(punctuations)\n",
    "displacy.render(doc, style=\"dep\", page=True, minify=True)\n",
    "\n",
    "\n",
    "def get_descendants(token):\n",
    "    \"\"\"Recursively get token and its descendants.\"\"\"\n",
    "    return [child for child in token.children] + [descendant for child in token.children for descendant in get_descendants(child)]\n",
    "\n",
    "\n",
    "for ent in doc.ents:\n",
    "    if ent.label_ == \"PERSON\":\n",
    "        print(ent.root.head.lemma_)\n",
    "        # Check if the root lemma of the entity is one of \"win\", \"get\", or \"receive\"\n",
    "        if ent.root.head.lemma_ in [\"win\", \"get\", \"receive\", \"take\"]:\n",
    "            # Extract the award name using the dependency tree\n",
    "            res = []\n",
    "            for child in ent.root.head.children:\n",
    "                if child.dep_ == \"dobj\":\n",
    "                    print(child.text)\n",
    "                    descendants = get_descendants(child)\n",
    "                    print(descendants)\n",
    "                    award_span = doc[child.left_edge.i: max(descendant.i for descendant in descendants) + 1]\n",
    "                    res.append(award_span.text)\n",
    "            print(res)\n",
    "\n",
    "# matches = matcher(doc)\n",
    "\n",
    "# print(matches) # [(4851363122962674176, [6, 0, 10, 9])]\n",
    "# # Each token_id corresponds to one pattern dict\n",
    "# match_id, token_ids = matches[0]\n",
    "# for i in range(len(token_ids)):\n",
    "#     print(pattern1[i][\"RIGHT_ID\"] + \":\", doc[token_ids[i]].text)"
   ]
  },
  {
   "cell_type": "code",
   "execution_count": 18,
   "metadata": {},
   "outputs": [
    {
     "name": "stdout",
     "output_type": "stream",
     "text": [
      "5007 PATTERN_1 Lawrence wins tonight\n",
      "17035 PATTERN_1 Smith wins TV\n"
     ]
    }
   ],
   "source": [
    "import json\n",
    "\n",
    "tweets = json.load(open(\"preprocess.txt\"))\n",
    "i = 0\n",
    "for idx, tweet in enumerate(tweets):\n",
    "    if ' wins ' not in tweet['new_text']:\n",
    "        continue\n",
    "    i += 1\n",
    "    if i > 100:\n",
    "        break\n",
    "\n",
    "    doc = nlp(tweet['new_text'])\n",
    "    matches = matcher(doc)\n",
    "    for match_id, start, end in matches:\n",
    "        string_id = nlp.vocab.strings[match_id]  # Get string representation\n",
    "        span = doc[start:end]                    # The matched span\n",
    "        print(idx, string_id, span.text)"
   ]
  }
 ],
 "metadata": {
  "kernelspec": {
   "display_name": "Python 3",
   "language": "python",
   "name": "python3"
  },
  "language_info": {
   "codemirror_mode": {
    "name": "ipython",
    "version": 3
   },
   "file_extension": ".py",
   "mimetype": "text/x-python",
   "name": "python",
   "nbconvert_exporter": "python",
   "pygments_lexer": "ipython3",
   "version": "3.8.10"
  },
  "orig_nbformat": 4
 },
 "nbformat": 4,
 "nbformat_minor": 2
}

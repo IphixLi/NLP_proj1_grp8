{
 "cells": [
  {
   "cell_type": "code",
   "execution_count": 2,
   "metadata": {},
   "outputs": [
    {
     "name": "stderr",
     "output_type": "stream",
     "text": [
      "[nltk_data] Downloading package averaged_perceptron_tagger to\n",
      "[nltk_data]     /home/chyifan/nltk_data...\n",
      "[nltk_data]   Package averaged_perceptron_tagger is already up-to-\n",
      "[nltk_data]       date!\n",
      "[nltk_data] Downloading package punkt to /home/chyifan/nltk_data...\n",
      "[nltk_data]   Package punkt is already up-to-date!\n"
     ]
    },
    {
     "name": "stdout",
     "output_type": "stream",
     "text": [
      "['supporting', 'goes']\n"
     ]
    }
   ],
   "source": [
    "import nltk\n",
    "from nltk.tokenize import word_tokenize\n",
    "\n",
    "nltk.download('averaged_perceptron_tagger')\n",
    "nltk.download('punkt')\n",
    "\n",
    "text = \"Best supporting actress in a motion picture goes to Anne Hathaway for \\\"Les Miserables\\\"\"\n",
    "words = word_tokenize(text)\n",
    "pos_tags = nltk.pos_tag(words)\n",
    "\n",
    "verbs = [word for word, pos in pos_tags if pos.startswith('VB')]\n",
    "print(verbs)"
   ]
  },
  {
   "cell_type": "code",
   "execution_count": 1,
   "metadata": {},
   "outputs": [],
   "source": [
    "import spacy\n",
    "# import neuralcoref\n",
    "\n",
    "nlp = spacy.load(\"en_core_web_md\")\n",
    "# neuralcoref.add_to_pipe(nlp)"
   ]
  },
  {
   "cell_type": "code",
   "execution_count": 9,
   "metadata": {},
   "outputs": [
    {
     "name": "stdout",
     "output_type": "stream",
     "text": [
      "[1, 1, 1, 1, 1, 1, 1, 1, 1, 1, 1, 1, 1, 1, 1, 1, 1, 1, 1, 1, 1, 1]\n",
      "[19, 23, 14, 18, 30, 28, 20, 22, 13, 22, 12, 10, 17, 17, 17, 18, 16, 24, 19, 20, 19, 26]\n"
     ]
    }
   ],
   "source": [
    "sentences = [\n",
    "    \"And the best look of the night goes to: Michelle Dockery In Alexandre Vauthier Couture via Fashion Critic\",\n",
    "    \"Photo: gq: GQ's Filmmaker of the Year just won Best Director at the Golden Globes. Congrats, Ben!\",\n",
    "    \"I'm going to start my own awards show called the silver spheres.\",\n",
    "    \"\\\"@JustJared: Claire Danes &amp; Hugh Dancy - Golden Globes 2013 Red Carpet http://t.co/25eeZEJq\\\"\",\n",
    "    \"Jennifer Lawrence vs. Zooey Deschanel: It's the Golden Globes Red Carpet Pose-Off!: It's a lady in red showdown! Jennifer Lawrence an...\",\n",
    "    \"'Argo,' 'Les Miz' win best-picture Golden Globes; Day-Lewis, Chastain take drama acting awards:  Golden Globes\",\n",
    "    \"\\u201c@amsdiva: Kate Hudson's smile is as infectious as her mother's #globesphilly #goldenglobes\\u201d Truth\",\n",
    "    \"Best supporting actress in TV series, mini-series or TV movie goes to Downton Abbey's Maggie Smith Golden Globes\",\n",
    "    \"Best Supporting Actress in a Motion Picture - Anne Hathaway - Les Miserables\",\n",
    "    \"Best Original Song - \\\"Skyfall\\\" - Adele (Official adele) & Paul Epworth (Paul epworth) - Skyfall\",\n",
    "    \"Best Original Song, Motion Picture: Skyfall by Official Adele!\",\n",
    "    \"Best Motion Picture - Comedy or Musical - Les Miserables\",\n",
    "    \"Congrats to Official Adele! She takes home the award for best original song for Skyfall!\",\n",
    "    \"A massive congratulations to the Goldenglobes winner for Best Actress in a Comedy Series, Lenadunham!\",\n",
    "    \"Rise of the guardians takes home the last award of the night: Best picture, drama\",\n",
    "    \"Hugh Jackman wins best actor in a motion picture, comedy or musical for \\\"Les Miserables\\\"\",\n",
    "    \"Best supporting actress in a motion picture goes to Anne Hathaway for \\\"Les Miserables\\\"\",\n",
    "    \"Hotel Transylvania is nominated for Two golden globes tonight \\\"Best Animated Film\\\" and \\\" Outstanding Animation in an Animated Feature Film\\\"\",\n",
    "    \"I bet Rise of the guardians takes home the last award of the night: Best picture, drama\",\n",
    "    \"I guess Hugh Jackman wins best actor in a motion picture, comedy or musical for \\\"Les Miserables\\\"\",\n",
    "    \"I bet best supporting actress in a motion picture is awarded to Anne Hathaway for \\\"Les Miserables\\\"\",\n",
    "    \"I hope Hotel Transylvania is nominated for Two golden globes tonight \\\"Best Animated Film\\\" and \\\" Outstanding Animation in an Animated Feature Film\\\"\",\n",
    "]\n",
    "sentences_len = [len(s.split(\"\\s:!;.,?'\\\"\")) for s in sentences]\n",
    "print(sentences_len)\n",
    "sentences = [nlp(s) for s in sentences]\n",
    "sentences_len = [len(s) for s in sentences]\n",
    "print(sentences_len)"
   ]
  },
  {
   "cell_type": "code",
   "execution_count": 139,
   "metadata": {},
   "outputs": [
    {
     "name": "stdout",
     "output_type": "stream",
     "text": [
      "[('Motion Picture -', 'ORG')]\n",
      "[('Actress', 'Supporting', 'ROOT', 'VERB', 'support'), ('a Motion Picture - Anne Hathaway - Les Miserables', 'in', 'prep', 'ADP', 'in')]\n",
      "[('Skyfall', 'WORK_OF_ART'), ('Adele', 'PERSON'), ('Paul Epworth', 'PERSON'), ('Paul epworth', 'PERSON')]\n",
      "[('Best Original Song - \"Skyfall', 'Skyfall', 'ROOT', 'PROPN', 'Skyfall'), ('Adele', 'Skyfall', 'ROOT', 'PROPN', 'Skyfall'), ('Paul Epworth', 'Adele', 'appos', 'PROPN', 'Adele'), ('Paul epworth', 'Skyfall', 'ROOT', 'PROPN', 'Skyfall'), ('Skyfall', 'Skyfall', 'ROOT', 'PROPN', 'Skyfall')]\n",
      "[]\n",
      "[('Best Original Song', 'Song', 'ROOT', 'PROPN', 'Song'), ('Motion Picture', 'Song', 'ROOT', 'PROPN', 'Song'), ('Skyfall', 'Song', 'ROOT', 'PROPN', 'Song'), ('Official adele', 'by', 'prep', 'ADP', 'by')]\n",
      "[('Musical - Les', 'ORG')]\n",
      "[('Best Motion Picture - Comedy or Musical - Les Miserables', 'Miserables', 'ROOT', 'PROPN', 'Miserables')]\n",
      "[('Skyfall', 'WORK_OF_ART')]\n",
      "[('Congrats', 'Congrats', 'ROOT', 'NOUN', 'congrat'), ('Official adele', 'to', 'prep', 'ADP', 'to'), ('She', 'takes', 'ROOT', 'VERB', 'take'), ('the award', 'takes', 'ROOT', 'VERB', 'take'), ('best original song', 'for', 'prep', 'ADP', 'for'), ('Skyfall', 'for', 'prep', 'ADP', 'for')]\n",
      "[('Argo', 'ORG')]\n",
      "[('Argo', 'takes', 'ROOT', 'VERB', 'take'), ('the last award', 'takes', 'ROOT', 'VERB', 'take'), ('the night', 'of', 'prep', 'ADP', 'of'), ('Best picture', 'award', 'dobj', 'NOUN', 'award'), ('drama', 'picture', 'appos', 'NOUN', 'picture')]\n",
      "[('Hugh Jackman', 'PERSON'), ('Les Miserables', 'WORK_OF_ART')]\n",
      "[('Hugh Jackman', 'wins', 'ROOT', 'VERB', 'win'), ('best actor', 'wins', 'ROOT', 'VERB', 'win'), ('a motion picture', 'in', 'prep', 'ADP', 'in'), ('comedy', 'picture', 'pobj', 'NOUN', 'picture'), ('Les Miserables', 'for', 'prep', 'ADP', 'for')]\n",
      "[('Anne Hathaway', 'PERSON'), ('Les Miserables', 'WORK_OF_ART')]\n",
      "[('Best supporting actress', 'awarded', 'ROOT', 'VERB', 'award'), ('a motion picture', 'in', 'prep', 'ADP', 'in'), ('Anne Hathaway', 'to', 'dative', 'ADP', 'to'), ('Les Miserables', 'for', 'prep', 'ADP', 'for')]\n",
      "[('Anne Hathaway', 'PERSON'), ('Les Miserables', 'WORK_OF_ART')]\n",
      "[('Best supporting actress', 'goes', 'ROOT', 'VERB', 'go'), ('a motion picture', 'in', 'prep', 'ADP', 'in'), ('Anne Hathaway', 'to', 'prep', 'ADP', 'to'), ('Les Miserables', 'for', 'prep', 'ADP', 'for')]\n",
      "[('Hotel Transylvania', 'ORG'), ('Two', 'CARDINAL'), ('tonight', 'TIME'), ('Best Animated Film', 'WORK_OF_ART'), ('Outstanding Animation', 'WORK_OF_ART')]\n",
      "[('Hotel Transylvania', 'nominated', 'ROOT', 'VERB', 'nominate'), ('Two golden globes', 'for', 'prep', 'ADP', 'for'), ('\"Best Animated Film', 'nominated', 'ROOT', 'VERB', 'nominate'), ('\" Outstanding Animation', 'Film', 'dobj', 'PROPN', 'Film'), ('an Animated Feature Film', 'in', 'prep', 'ADP', 'in')]\n"
     ]
    }
   ],
   "source": [
    "for doc in sentences:\n",
    "    print([(ent.text, ent.label_) for ent in doc.ents])\n",
    "    print([(chunk.text, chunk.root.head.text, chunk.root.head.dep_, chunk.root.head.pos_, chunk.root.head.lemma_) for chunk in doc.noun_chunks])"
   ]
  },
  {
   "cell_type": "code",
   "execution_count": 40,
   "metadata": {},
   "outputs": [],
   "source": [
    "from spacy.matcher import DependencyMatcher\n",
    "matcher = DependencyMatcher(nlp.vocab)\n",
    "\n",
    "# List of verbs to match\n",
    "verbs_single = [\"wins\", \"get\", \"receive\", \"won\", \"got\", \"received\"]\n",
    "\n",
    "# Pattern for \"Y wins X\"\n",
    "pattern1 = [\n",
    "    {\n",
    "        \"RIGHT_ID\": \"anchor_wins\",\n",
    "        \"RIGHT_ATTRS\": {\"ORTH\": \"wins\"},\n",
    "    },\n",
    "    {\n",
    "        \"LEFT_ID\": \"anchor_wins\",\n",
    "        \"REL_OP\": \">\",\n",
    "        \"RIGHT_ID\": \"wins_subject\",\n",
    "        \"RIGHT_ATTRS\": {\"DEP\": \"nsubj\"},\n",
    "    },\n",
    "    {\n",
    "        \"LEFT_ID\": \"anchor_wins\",\n",
    "        \"REL_OP\": \">\",\n",
    "        \"RIGHT_ID\": \"wins_object\",\n",
    "        \"RIGHT_ATTRS\": {\"DEP\": \"dobj\"},\n",
    "    },\n",
    "]\n",
    "\n",
    "\n",
    "# Add patterns to the Matcher\n",
    "matcher.add(\"PATTERN_1\", [pattern1])\n"
   ]
  },
  {
   "cell_type": "code",
   "execution_count": 20,
   "metadata": {},
   "outputs": [
    {
     "name": "stdout",
     "output_type": "stream",
     "text": [
      "['leo should have won!!!']\n",
      "[('leo', 'ORG')]\n",
      "root: [won]\n",
      "root: won\n",
      "[leo, should, have, !, !, !]\n",
      "[]\n"
     ]
    },
    {
     "data": {
      "text/html": [
       "<span class=\"tex2jax_ignore\"><!DOCTYPE html><html lang=\"en\"><head><title>displaCy</title></head><body style=\"font-size: 16px; font-family: -apple-system, BlinkMacSystemFont, 'Segoe UI', Helvetica, Arial, sans-serif, 'Apple Color Emoji', 'Segoe UI Emoji', 'Segoe UI Symbol'; padding: 4rem 2rem; direction: ltr\"><figure style=\"margin-bottom: 6rem\"><svg xmlns=\"http://www.w3.org/2000/svg\" xmlns:xlink=\"http://www.w3.org/1999/xlink\" xml:lang=\"en\" id=\"6fae2bebc9f6442392793b155c2f0a97-0\" class=\"displacy\" width=\"750\" height=\"399.5\" direction=\"ltr\" style=\"max-width: none; height: 399.5px; color: #000000; background: #ffffff; font-family: Arial; direction: ltr\"><text class=\"displacy-token\" fill=\"currentColor\" text-anchor=\"middle\" y=\"309.5\"><tspan class=\"displacy-word\" fill=\"currentColor\" x=\"50\">leo</tspan><tspan class=\"displacy-tag\" dy=\"2em\" fill=\"currentColor\" x=\"50\">PROPN</tspan></text><text class=\"displacy-token\" fill=\"currentColor\" text-anchor=\"middle\" y=\"309.5\"><tspan class=\"displacy-word\" fill=\"currentColor\" x=\"225\">should</tspan><tspan class=\"displacy-tag\" dy=\"2em\" fill=\"currentColor\" x=\"225\">AUX</tspan></text><text class=\"displacy-token\" fill=\"currentColor\" text-anchor=\"middle\" y=\"309.5\"><tspan class=\"displacy-word\" fill=\"currentColor\" x=\"400\">have</tspan><tspan class=\"displacy-tag\" dy=\"2em\" fill=\"currentColor\" x=\"400\">AUX</tspan></text><text class=\"displacy-token\" fill=\"currentColor\" text-anchor=\"middle\" y=\"309.5\"><tspan class=\"displacy-word\" fill=\"currentColor\" x=\"575\">won!!!</tspan><tspan class=\"displacy-tag\" dy=\"2em\" fill=\"currentColor\" x=\"575\">VERB</tspan></text><g class=\"displacy-arrow\"><path class=\"displacy-arc\" id=\"arrow-6fae2bebc9f6442392793b155c2f0a97-0-0\" stroke-width=\"2px\" d=\"M70,264.5 C70,2.0 575.0,2.0 575.0,264.5\" fill=\"none\" stroke=\"currentColor\"/><text dy=\"1.25em\" style=\"font-size: 0.8em; letter-spacing: 1px\"><textPath xlink:href=\"#arrow-6fae2bebc9f6442392793b155c2f0a97-0-0\" class=\"displacy-label\" startOffset=\"50%\" side=\"left\" fill=\"currentColor\" text-anchor=\"middle\">nsubj</textPath></text><path class=\"displacy-arrowhead\" d=\"M70,266.5 L62,254.5 78,254.5\" fill=\"currentColor\"/></g><g class=\"displacy-arrow\"><path class=\"displacy-arc\" id=\"arrow-6fae2bebc9f6442392793b155c2f0a97-0-1\" stroke-width=\"2px\" d=\"M245,264.5 C245,89.5 570.0,89.5 570.0,264.5\" fill=\"none\" stroke=\"currentColor\"/><text dy=\"1.25em\" style=\"font-size: 0.8em; letter-spacing: 1px\"><textPath xlink:href=\"#arrow-6fae2bebc9f6442392793b155c2f0a97-0-1\" class=\"displacy-label\" startOffset=\"50%\" side=\"left\" fill=\"currentColor\" text-anchor=\"middle\">aux</textPath></text><path class=\"displacy-arrowhead\" d=\"M245,266.5 L237,254.5 253,254.5\" fill=\"currentColor\"/></g><g class=\"displacy-arrow\"><path class=\"displacy-arc\" id=\"arrow-6fae2bebc9f6442392793b155c2f0a97-0-2\" stroke-width=\"2px\" d=\"M420,264.5 C420,177.0 565.0,177.0 565.0,264.5\" fill=\"none\" stroke=\"currentColor\"/><text dy=\"1.25em\" style=\"font-size: 0.8em; letter-spacing: 1px\"><textPath xlink:href=\"#arrow-6fae2bebc9f6442392793b155c2f0a97-0-2\" class=\"displacy-label\" startOffset=\"50%\" side=\"left\" fill=\"currentColor\" text-anchor=\"middle\">aux</textPath></text><path class=\"displacy-arrowhead\" d=\"M420,266.5 L412,254.5 428,254.5\" fill=\"currentColor\"/></g></svg></figure></body></html></span>"
      ],
      "text/plain": [
       "<IPython.core.display.HTML object>"
      ]
     },
     "metadata": {},
     "output_type": "display_data"
    }
   ],
   "source": [
    "from spacy import displacy\n",
    "\n",
    "doc = nlp(\"leo should have won!!!\")\n",
    "print([sent.text for sent in doc.sents])\n",
    "print([(ent.text, ent.label_) for ent in doc.ents])\n",
    "\n",
    "# print(doc._.coref_clusters)\n",
    "def find_verbs(spacy_output):\n",
    "    return [token for token in spacy_output if token.pos_ == \"VERB\"]\n",
    "\n",
    "def find_root(spacy_output):\n",
    "    for token in spacy_output:\n",
    "        if token.dep_ == \"ROOT\":\n",
    "            return token\n",
    "    return None\n",
    "\n",
    "print(f\"root: {[sent.root for sent in doc.sents]}\")\n",
    "print(f\"root: {find_root(doc)}\")\n",
    "\n",
    "for v in find_verbs(doc):\n",
    "    if v.dep_ != \"ROOT\" and v.head == find_root(doc):\n",
    "        print(v.text)\n",
    "# head = doc.ents[0].root.head\n",
    "# print(head.lemma_)\n",
    "\n",
    "root = find_root(doc)\n",
    "print([child for child in root.children])\n",
    "punctuations = [child for child in root.children if child.text in [\"-\", \":\"]]\n",
    "print(punctuations)\n",
    "displacy.render(doc, style=\"dep\", page=True, minify=True)\n",
    "\n",
    "\n",
    "def get_descendants(token):\n",
    "    \"\"\"Recursively get token and its descendants.\"\"\"\n",
    "    return [child for child in token.children] + [descendant for child in token.children for descendant in get_descendants(child)]\n",
    "\n",
    "\n",
    "for ent in doc.ents:\n",
    "    if ent.label_ == \"PERSON\":\n",
    "        print(ent.root.head.lemma_)\n",
    "        # Check if the root lemma of the entity is one of \"win\", \"get\", or \"receive\"\n",
    "        if ent.root.head.lemma_ in [\"win\", \"get\", \"receive\", \"take\"]:\n",
    "            # Extract the award name using the dependency tree\n",
    "            res = []\n",
    "            for child in ent.root.head.children:\n",
    "                if child.dep_ == \"dobj\":\n",
    "                    print(child.text)\n",
    "                    descendants = get_descendants(child)\n",
    "                    print(descendants)\n",
    "                    award_span = doc[child.left_edge.i: max(descendant.i for descendant in descendants) + 1]\n",
    "                    res.append(award_span.text)\n",
    "            print(res)\n",
    "\n",
    "# matches = matcher(doc)\n",
    "\n",
    "# print(matches) # [(4851363122962674176, [6, 0, 10, 9])]\n",
    "# # Each token_id corresponds to one pattern dict\n",
    "# match_id, token_ids = matches[0]\n",
    "# for i in range(len(token_ids)):\n",
    "#     print(pattern1[i][\"RIGHT_ID\"] + \":\", doc[token_ids[i]].text)"
   ]
  },
  {
   "cell_type": "code",
   "execution_count": 18,
   "metadata": {},
   "outputs": [
    {
     "name": "stdout",
     "output_type": "stream",
     "text": [
      "5007 PATTERN_1 Lawrence wins tonight\n",
      "17035 PATTERN_1 Smith wins TV\n"
     ]
    }
   ],
   "source": [
    "import json\n",
    "\n",
    "tweets = json.load(open(\"preprocess.txt\"))\n",
    "i = 0\n",
    "for idx, tweet in enumerate(tweets):\n",
    "    if ' wins ' not in tweet['new_text']:\n",
    "        continue\n",
    "    i += 1\n",
    "    if i > 100:\n",
    "        break\n",
    "\n",
    "    doc = nlp(tweet['new_text'])\n",
    "    matches = matcher(doc)\n",
    "    for match_id, start, end in matches:\n",
    "        string_id = nlp.vocab.strings[match_id]  # Get string representation\n",
    "        span = doc[start:end]                    # The matched span\n",
    "        print(idx, string_id, span.text)"
   ]
  }
 ],
 "metadata": {
  "kernelspec": {
   "display_name": "Python 3",
   "language": "python",
   "name": "python3"
  },
  "language_info": {
   "codemirror_mode": {
    "name": "ipython",
    "version": 3
   },
   "file_extension": ".py",
   "mimetype": "text/x-python",
   "name": "python",
   "nbconvert_exporter": "python",
   "pygments_lexer": "ipython3",
   "version": "3.8.10"
  },
  "orig_nbformat": 4
 },
 "nbformat": 4,
 "nbformat_minor": 2
}

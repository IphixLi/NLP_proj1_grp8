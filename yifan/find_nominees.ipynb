{
 "cells": [
  {
   "cell_type": "code",
   "execution_count": 12,
   "metadata": {},
   "outputs": [],
   "source": [
    "import string\n",
    "import json\n",
    "\n",
    "data = json.load(open('gg2013answers.json'))\n",
    "\n",
    "def check_winner_and_nominee_in_sentence(sentence):\n",
    "    sentence = sentence.lower()\n",
    "    for _, details in data['award_data'].items():\n",
    "        winner = details['winner']\n",
    "        if winner.lower() in sentence:\n",
    "            for nominee in details['nominees']:\n",
    "                if nominee.lower() in sentence:\n",
    "                    print()\n",
    "                    print(winner, \"    AND    \", nominee)\n",
    "                    return True\n",
    "    return False\n",
    "\n",
    "def remove_punctuation(sentence):\n",
    "    return ''.join([ch for ch in sentence if ch not in string.punctuation])"
   ]
  },
  {
   "cell_type": "code",
   "execution_count": 11,
   "metadata": {},
   "outputs": [
    {
     "name": "stdout",
     "output_type": "stream",
     "text": [
      "argo     AND     zero dark thirty\n",
      "Argo and Zero Dark Thirty great movies! #GoldenGlobes\n"
     ]
    }
   ],
   "source": [
    "sentence = \"Argo and Zero Dark Thirty great movies! #GoldenGlobes\"\n",
    "if check_winner_and_nominee_in_sentence(sentence):\n",
    "    print(sentence)"
   ]
  },
  {
   "cell_type": "code",
   "execution_count": 13,
   "metadata": {},
   "outputs": [
    {
     "name": "stdout",
     "output_type": "stream",
     "text": [
      "--------------------------------------------------\n"
     ]
    },
    {
     "ename": "AttributeError",
     "evalue": "'list' object has no attribute 'lower'",
     "output_type": "error",
     "traceback": [
      "\u001b[0;31m---------------------------------------------------------------------------\u001b[0m",
      "\u001b[0;31mAttributeError\u001b[0m                            Traceback (most recent call last)",
      "\u001b[1;32m/mnt/d/NU/2023/fall/337-natural_language_processing/projects/p1/yifan/find_nominees.ipynb Cell 3\u001b[0m line \u001b[0;36m1\n\u001b[1;32m      <a href='vscode-notebook-cell://wsl%2Bubuntu-20.04/mnt/d/NU/2023/fall/337-natural_language_processing/projects/p1/yifan/find_nominees.ipynb#W2sdnNjb2RlLXJlbW90ZQ%3D%3D?line=8'>9</a>\u001b[0m \u001b[39mfor\u001b[39;00m tweet \u001b[39min\u001b[39;00m tweets:\n\u001b[1;32m     <a href='vscode-notebook-cell://wsl%2Bubuntu-20.04/mnt/d/NU/2023/fall/337-natural_language_processing/projects/p1/yifan/find_nominees.ipynb#W2sdnNjb2RlLXJlbW90ZQ%3D%3D?line=9'>10</a>\u001b[0m     sentence \u001b[39m=\u001b[39m remove_punctuation(tweet[\u001b[39m'\u001b[39m\u001b[39mnew_text\u001b[39m\u001b[39m'\u001b[39m])\n\u001b[0;32m---> <a href='vscode-notebook-cell://wsl%2Bubuntu-20.04/mnt/d/NU/2023/fall/337-natural_language_processing/projects/p1/yifan/find_nominees.ipynb#W2sdnNjb2RlLXJlbW90ZQ%3D%3D?line=10'>11</a>\u001b[0m     \u001b[39mif\u001b[39;00m check_winner_and_nominee_in_sentence(sentence):\n\u001b[1;32m     <a href='vscode-notebook-cell://wsl%2Bubuntu-20.04/mnt/d/NU/2023/fall/337-natural_language_processing/projects/p1/yifan/find_nominees.ipynb#W2sdnNjb2RlLXJlbW90ZQ%3D%3D?line=11'>12</a>\u001b[0m         \u001b[39mprint\u001b[39m(tweet)\n\u001b[1;32m     <a href='vscode-notebook-cell://wsl%2Bubuntu-20.04/mnt/d/NU/2023/fall/337-natural_language_processing/projects/p1/yifan/find_nominees.ipynb#W2sdnNjb2RlLXJlbW90ZQ%3D%3D?line=12'>13</a>\u001b[0m \u001b[39mprint\u001b[39m(\u001b[39m\"\u001b[39m\u001b[39m*\u001b[39m\u001b[39m\"\u001b[39m\u001b[39m*\u001b[39m\u001b[39m50\u001b[39m)\n",
      "\u001b[1;32m/mnt/d/NU/2023/fall/337-natural_language_processing/projects/p1/yifan/find_nominees.ipynb Cell 3\u001b[0m line \u001b[0;36m7\n\u001b[1;32m      <a href='vscode-notebook-cell://wsl%2Bubuntu-20.04/mnt/d/NU/2023/fall/337-natural_language_processing/projects/p1/yifan/find_nominees.ipynb#W2sdnNjb2RlLXJlbW90ZQ%3D%3D?line=5'>6</a>\u001b[0m \u001b[39mdef\u001b[39;00m \u001b[39mcheck_winner_and_nominee_in_sentence\u001b[39m(sentence):\n\u001b[0;32m----> <a href='vscode-notebook-cell://wsl%2Bubuntu-20.04/mnt/d/NU/2023/fall/337-natural_language_processing/projects/p1/yifan/find_nominees.ipynb#W2sdnNjb2RlLXJlbW90ZQ%3D%3D?line=6'>7</a>\u001b[0m     sentence \u001b[39m=\u001b[39m sentence\u001b[39m.\u001b[39;49mlower()\n\u001b[1;32m      <a href='vscode-notebook-cell://wsl%2Bubuntu-20.04/mnt/d/NU/2023/fall/337-natural_language_processing/projects/p1/yifan/find_nominees.ipynb#W2sdnNjb2RlLXJlbW90ZQ%3D%3D?line=7'>8</a>\u001b[0m     \u001b[39mfor\u001b[39;00m _, details \u001b[39min\u001b[39;00m data[\u001b[39m'\u001b[39m\u001b[39maward_data\u001b[39m\u001b[39m'\u001b[39m]\u001b[39m.\u001b[39mitems():\n\u001b[1;32m      <a href='vscode-notebook-cell://wsl%2Bubuntu-20.04/mnt/d/NU/2023/fall/337-natural_language_processing/projects/p1/yifan/find_nominees.ipynb#W2sdnNjb2RlLXJlbW90ZQ%3D%3D?line=8'>9</a>\u001b[0m         winner \u001b[39m=\u001b[39m details[\u001b[39m'\u001b[39m\u001b[39mwinner\u001b[39m\u001b[39m'\u001b[39m]\n",
      "\u001b[0;31mAttributeError\u001b[0m: 'list' object has no attribute 'lower'"
     ]
    }
   ],
   "source": [
    "\n",
    "\n",
    "from data_preprocess import TweetsPreprocessor\n",
    "\n",
    "tp = TweetsPreprocessor()\n",
    "tp.load_all_tweets()\n",
    "\n",
    "for tweets in tp.tweets_classification.values():\n",
    "    if isinstance(tweets, list):\n",
    "        print(\"-\"*50)\n",
    "        for tweet in tweets:\n",
    "            sentence = remove_punctuation(tweet['new_text'])\n",
    "            if check_winner_and_nominee_in_sentence(sentence):\n",
    "                print(tweet)\n",
    "        print(\"*\"*50)\n",
    "        print()"
   ]
  }
 ],
 "metadata": {
  "kernelspec": {
   "display_name": "Python 3",
   "language": "python",
   "name": "python3"
  },
  "language_info": {
   "codemirror_mode": {
    "name": "ipython",
    "version": 3
   },
   "file_extension": ".py",
   "mimetype": "text/x-python",
   "name": "python",
   "nbconvert_exporter": "python",
   "pygments_lexer": "ipython3",
   "version": "3.8.10"
  },
  "orig_nbformat": 4
 },
 "nbformat": 4,
 "nbformat_minor": 2
}

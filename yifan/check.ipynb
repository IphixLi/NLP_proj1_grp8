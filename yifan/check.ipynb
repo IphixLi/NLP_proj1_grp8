{
 "cells": [
  {
   "cell_type": "code",
   "execution_count": 3,
   "metadata": {},
   "outputs": [
    {
     "name": "stdout",
     "output_type": "stream",
     "text": [
      "[\n",
      "    {\n",
      "        \"text\": \"Christoph Waltz will win any award he is nominated for. Ever. Fact. #GoldenGlobes\",\n",
      "        \"user\": {\n",
      "            \"screen_name\": \"LOVRachelH\",\n",
      "            \"id\": 347646391\n",
      "        },\n",
      "        \"id\": 290627397710118913,\n",
      "        \"timestamp_ms\": 1358125945000,\n",
      "        \"new_text\": \"Christoph Waltz will win any award he is nominated for. Ever. Fact. Golden globes\",\n",
      "        \"pattern_matches\": {}\n",
      "    }\n",
      "]\n"
     ]
    }
   ],
   "source": [
    "import json\n",
    "\n",
    "tweets = json.load(open('pattern_match.txt'))\n",
    "res = []\n",
    "for tweet in tweets:\n",
    "    if \"is nominated for\" in tweet['new_text'].lower() and \"nominee_candidates\" not in tweet:\n",
    "        res.append(tweet)\n",
    "\n",
    "print(json.dumps(res, indent=4))"
   ]
  }
 ],
 "metadata": {
  "kernelspec": {
   "display_name": "Python 3",
   "language": "python",
   "name": "python3"
  },
  "language_info": {
   "codemirror_mode": {
    "name": "ipython",
    "version": 3
   },
   "file_extension": ".py",
   "mimetype": "text/x-python",
   "name": "python",
   "nbconvert_exporter": "python",
   "pygments_lexer": "ipython3",
   "version": "3.8.10"
  },
  "orig_nbformat": 4
 },
 "nbformat": 4,
 "nbformat_minor": 2
}
